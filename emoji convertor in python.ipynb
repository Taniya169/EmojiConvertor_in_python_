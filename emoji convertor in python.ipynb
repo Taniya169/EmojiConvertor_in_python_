{
 "cells": [
  {
   "cell_type": "code",
   "execution_count": 12,
   "id": "680bfee9-ecc6-4d7b-a3e8-b9c05aa36999",
   "metadata": {},
   "outputs": [
    {
     "name": "stdout",
     "output_type": "stream",
     "text": [
      "Requirement already satisfied: emoji in c:\\users\\acer\\appdata\\local\\programs\\python\\python312\\lib\\site-packages (2.11.1)\n",
      "Note: you may need to restart the kernel to use updated packages.\n"
     ]
    }
   ],
   "source": [
    "\n",
    "pip install emoji\n"
   ]
  },
  {
   "cell_type": "code",
   "execution_count": 6,
   "id": "f220d0bf-aeb4-4ceb-b525-4b156d7c009f",
   "metadata": {},
   "outputs": [],
   "source": [
    "import demoji"
   ]
  },
  {
   "cell_type": "code",
   "execution_count": 9,
   "id": "7defeb01-429f-4fc5-97ed-5ca606ac11fe",
   "metadata": {},
   "outputs": [
    {
     "data": {
      "text/plain": [
       "{'🤣': 'rolling on the floor laughing',\n",
       " '😛': 'face with tongue',\n",
       " '😁': 'beaming face with smiling eyes'}"
      ]
     },
     "execution_count": 9,
     "metadata": {},
     "output_type": "execute_result"
    }
   ],
   "source": [
    "text=\"😁😛🤣\"\n",
    "demoji.findall(text)"
   ]
  },
  {
   "cell_type": "code",
   "execution_count": 10,
   "id": "4f2691c2-c1ca-4084-99f5-06065410edb4",
   "metadata": {},
   "outputs": [
    {
     "data": {
      "text/plain": [
       "{'😀': 'grinning face',\n",
       " '🌞': 'sun with face',\n",
       " '😕': 'confused face',\n",
       " '😊': 'smiling face with smiling eyes',\n",
       " '😔': 'pensive face'}"
      ]
     },
     "execution_count": 10,
     "metadata": {},
     "output_type": "execute_result"
    }
   ],
   "source": [
    "text1=\"\"\" Good Morning 🌞 everyone,you know 😀 is best therapy. But sometimes I'm 😔,and sometimes I'm 😕.\n",
    "          But  I tried my best to be 😊.\"\"\"\n",
    "demoji.findall(text1)"
   ]
  },
  {
   "cell_type": "code",
   "execution_count": null,
   "id": "2ab6c4f4-2e60-4227-9ed3-7d6662da3a63",
   "metadata": {},
   "outputs": [],
   "source": []
  }
 ],
 "metadata": {
  "kernelspec": {
   "display_name": "Python 3 (ipykernel)",
   "language": "python",
   "name": "python3"
  },
  "language_info": {
   "codemirror_mode": {
    "name": "ipython",
    "version": 3
   },
   "file_extension": ".py",
   "mimetype": "text/x-python",
   "name": "python",
   "nbconvert_exporter": "python",
   "pygments_lexer": "ipython3",
   "version": "3.12.2"
  }
 },
 "nbformat": 4,
 "nbformat_minor": 5
}
